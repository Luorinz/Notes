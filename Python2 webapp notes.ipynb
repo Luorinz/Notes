{
 "cells": [
  {
   "cell_type": "markdown",
   "metadata": {},
   "source": [
    "# This is a note for python2 webapp"
   ]
  },
  {
   "cell_type": "code",
   "execution_count": 1,
   "metadata": {},
   "outputs": [],
   "source": [
    "# print 'helloworld'\n"
   ]
  },
  {
   "cell_type": "markdown",
   "metadata": {},
   "source": [
    "这段Python脚本代码将会对每一个WEB请求响应一段HTTP header（用来描述内容），一个空行，以及一则信息Hello, world!。 \n",
    "\n",
    "创建配置文件 \n",
    "每个App Engine程序都有一个配置文件叫做app.yaml。这个文件用来告诉服务器哪一段URLs用哪一个handler代码来处理。 \n",
    "\n",
    "在helloworld 文件夹里，创建一个名叫app.yaml的文件，内容如下： "
   ]
  },
  {
   "cell_type": "markdown",
   "metadata": {},
   "source": [
    "application: helloworld  \n",
    "version: 1  \n",
    "runtime: python  \n",
    "api_version: 1  \n",
    "  \n",
    "handlers:  \n",
    "- url: /.*  \n",
    "  script: helloworld.py  "
   ]
  },
  {
   "cell_type": "markdown",
   "metadata": {},
   "source": [
    "从上到下，这个配置文件讲了如下几个关于应用程序的内容： \n",
    "\n",
    "这个应用程序的ID是helloworld。当你在最后一步中上传你的程序时，你得选择一个唯一的ID，然后代替掉这个helloworld。在调试开发阶段，这个ID可以是任何值。现在，我们把它设成helloworld。 \n",
    "这个程序代码的版本号是1，如果你上传了新的版本的程序，App Engine会保留以前的版本，通过管理控制台，你可以将你的App Engine程序恢复到以前的版本。 \n",
    "这段代码是在python 运行时环境下运行的，版本号是1.其他的runtime环境和语言可能会在将来得到支持。 \n",
    "每个符合正则表达式/.* (即所有URLs)都将用helloworld.py 这段代码进行处理。 \n",
    "The syntax of this file is YAML. For a complete list of configuration options, see the app.yaml reference. \n",
    "\n",
    "这个文件的语法是 YAML. \n",
    "关于完整的配置选项，参见 the app.yaml reference。 "
   ]
  },
  {
   "cell_type": "markdown",
   "metadata": {},
   "source": [
    "没有gcloud怎么办？\n",
    "\n",
    "可选：如果您在使用 gcloud 命令时遇到问题，请确保您已正确定义 $PATH。使用安装脚本，以将 Cloud SDK 工具添加至您的路径。您还可以在安装过程中选择为 bash shell 开启命令补全功能以及启用使用情况统计信息收集功能。使用以下命令运行脚本：\n",
    "\n",
    "./google-cloud-sdk/install.sh\n",
    "重新启动终端以使更改生效。\n",
    "\n",
    "或者，在解压缩下载的归档文件后，您可以通过完整路径调用该文件的可执行文件，从而调用 Cloud SDK。"
   ]
  },
  {
   "cell_type": "code",
   "execution_count": null,
   "metadata": {},
   "outputs": [],
   "source": []
  },
  {
   "cell_type": "code",
   "execution_count": null,
   "metadata": {},
   "outputs": [],
   "source": []
  },
  {
   "cell_type": "code",
   "execution_count": null,
   "metadata": {},
   "outputs": [],
   "source": []
  },
  {
   "cell_type": "code",
   "execution_count": null,
   "metadata": {},
   "outputs": [],
   "source": []
  },
  {
   "cell_type": "code",
   "execution_count": null,
   "metadata": {},
   "outputs": [],
   "source": []
  }
 ],
 "metadata": {
  "kernelspec": {
   "display_name": "Python 2",
   "language": "python",
   "name": "python2"
  },
  "language_info": {
   "codemirror_mode": {
    "name": "ipython",
    "version": 2
   },
   "file_extension": ".py",
   "mimetype": "text/x-python",
   "name": "python",
   "nbconvert_exporter": "python",
   "pygments_lexer": "ipython2",
   "version": "2.7.15"
  }
 },
 "nbformat": 4,
 "nbformat_minor": 2
}
